{
 "cells": [
  {
   "cell_type": "markdown",
   "metadata": {},
   "source": [
    "# Gradient Boosting"
   ]
  },
  {
   "cell_type": "code",
   "execution_count": 1,
   "metadata": {},
   "outputs": [
    {
     "name": "stderr",
     "output_type": "stream",
     "text": [
      "c:\\users\\higer\\appdata\\local\\programs\\python\\python36-32\\lib\\site-packages\\sklearn\\cross_validation.py:41: DeprecationWarning: This module was deprecated in version 0.18 in favor of the model_selection module into which all the refactored classes and functions are moved. Also note that the interface of the new CV iterators are different from that of this module. This module will be removed in 0.20.\n",
      "  \"This module will be removed in 0.20.\", DeprecationWarning)\n",
      "c:\\users\\higer\\appdata\\local\\programs\\python\\python36-32\\lib\\site-packages\\sklearn\\learning_curve.py:22: DeprecationWarning: This module was deprecated in version 0.18 in favor of the model_selection module into which all the functions are moved. This module will be removed in 0.20\n",
      "  DeprecationWarning)\n"
     ]
    }
   ],
   "source": [
    "from sklearn.datasets import load_boston\n",
    "from sklearn import cross_validation, datasets, metrics, tree, ensemble, learning_curve, linear_model\n",
    "import numpy as np\n",
    "import pandas as pd\n",
    "from matplotlib import pyplot as plt\n",
    "%matplotlib inline"
   ]
  },
  {
   "cell_type": "markdown",
   "metadata": {},
   "source": [
    "Будем работать с датасетом Boston"
   ]
  },
  {
   "cell_type": "code",
   "execution_count": 2,
   "metadata": {},
   "outputs": [],
   "source": [
    "X, y = load_boston(return_X_y=True)"
   ]
  },
  {
   "cell_type": "code",
   "execution_count": 3,
   "metadata": {},
   "outputs": [],
   "source": [
    "X_train, X_test, y_train, y_test = cross_validation.train_test_split(X, y, \n",
    "                                                                     test_size=0.25, \n",
    "                                                                     random_state=0)"
   ]
  },
  {
   "cell_type": "markdown",
   "metadata": {},
   "source": [
    "Посмотрим описание датасета"
   ]
  },
  {
   "cell_type": "code",
   "execution_count": 4,
   "metadata": {},
   "outputs": [
    {
     "name": "stdout",
     "output_type": "stream",
     "text": [
      "Boston House Prices dataset\n",
      "===========================\n",
      "\n",
      "Notes\n",
      "------\n",
      "Data Set Characteristics:  \n",
      "\n",
      "    :Number of Instances: 506 \n",
      "\n",
      "    :Number of Attributes: 13 numeric/categorical predictive\n",
      "    \n",
      "    :Median Value (attribute 14) is usually the target\n",
      "\n",
      "    :Attribute Information (in order):\n",
      "        - CRIM     per capita crime rate by town\n",
      "        - ZN       proportion of residential land zoned for lots over 25,000 sq.ft.\n",
      "        - INDUS    proportion of non-retail business acres per town\n",
      "        - CHAS     Charles River dummy variable (= 1 if tract bounds river; 0 otherwise)\n",
      "        - NOX      nitric oxides concentration (parts per 10 million)\n",
      "        - RM       average number of rooms per dwelling\n",
      "        - AGE      proportion of owner-occupied units built prior to 1940\n",
      "        - DIS      weighted distances to five Boston employment centres\n",
      "        - RAD      index of accessibility to radial highways\n",
      "        - TAX      full-value property-tax rate per $10,000\n",
      "        - PTRATIO  pupil-teacher ratio by town\n",
      "        - B        1000(Bk - 0.63)^2 where Bk is the proportion of blacks by town\n",
      "        - LSTAT    % lower status of the population\n",
      "        - MEDV     Median value of owner-occupied homes in $1000's\n",
      "\n",
      "    :Missing Attribute Values: None\n",
      "\n",
      "    :Creator: Harrison, D. and Rubinfeld, D.L.\n",
      "\n",
      "This is a copy of UCI ML housing dataset.\n",
      "http://archive.ics.uci.edu/ml/datasets/Housing\n",
      "\n",
      "\n",
      "This dataset was taken from the StatLib library which is maintained at Carnegie Mellon University.\n",
      "\n",
      "The Boston house-price data of Harrison, D. and Rubinfeld, D.L. 'Hedonic\n",
      "prices and the demand for clean air', J. Environ. Economics & Management,\n",
      "vol.5, 81-102, 1978.   Used in Belsley, Kuh & Welsch, 'Regression diagnostics\n",
      "...', Wiley, 1980.   N.B. Various transformations are used in the table on\n",
      "pages 244-261 of the latter.\n",
      "\n",
      "The Boston house-price data has been used in many machine learning papers that address regression\n",
      "problems.   \n",
      "     \n",
      "**References**\n",
      "\n",
      "   - Belsley, Kuh & Welsch, 'Regression diagnostics: Identifying Influential Data and Sources of Collinearity', Wiley, 1980. 244-261.\n",
      "   - Quinlan,R. (1993). Combining Instance-Based and Model-Based Learning. In Proceedings on the Tenth International Conference of Machine Learning, 236-243, University of Massachusetts, Amherst. Morgan Kaufmann.\n",
      "   - many more! (see http://archive.ics.uci.edu/ml/datasets/Housing)\n",
      "\n"
     ]
    }
   ],
   "source": [
    "print(load_boston().DESCR)"
   ]
  },
  {
   "cell_type": "markdown",
   "metadata": {},
   "source": [
    "Cреднеквадратичная ошибка (в задаче регрессии):\n",
    "\\begin{equation}L(y,z) = {(y−z)}^2\\end{equation}"
   ]
  },
  {
   "cell_type": "code",
   "execution_count": 5,
   "metadata": {},
   "outputs": [],
   "source": [
    "def der_L(y_true, y_pred):\n",
    "    return y_true - y_pred"
   ]
  },
  {
   "cell_type": "markdown",
   "metadata": {},
   "source": [
    "Функция, которая будет вычислять прогноз построенной на данный момент композиции деревьев на выборке X"
   ]
  },
  {
   "cell_type": "code",
   "execution_count": 6,
   "metadata": {},
   "outputs": [],
   "source": [
    "def gbm_predict(X):\n",
    "    return [sum([coeff * algo.predict([x])[0] for algo, coeff in zip\n",
    "                 (base_algorithms_list, coefficients_list)]) for x in X]"
   ]
  },
  {
   "cell_type": "code",
   "execution_count": 7,
   "metadata": {},
   "outputs": [
    {
     "name": "stdout",
     "output_type": "stream",
     "text": [
      "5.090512902628062\n"
     ]
    }
   ],
   "source": [
    "base_algorithms_list  = []\n",
    "coefficients_list = []\n",
    "\n",
    "\"\"\"Обучаем 50 решающих деревьев с коэффицентами равными 0.9\"\"\"\n",
    "for i in range(50):\n",
    "    coefficients_list.append(0.9)\n",
    "    regression = tree.DecisionTreeRegressor(max_depth=5, random_state=42)\n",
    "    #Сначала обучаем первое дерево\n",
    "    if i == 0: \n",
    "        regression.fit(X_train, y_train)\n",
    "    #Для остальных пытаемся уменьшить ошибку\n",
    "    else: \n",
    "        regression.fit(X_train, der_L(y_train, gbm_predict(X_train)))\n",
    "    base_algorithms_list.append(regression)\n",
    "\n",
    "RMSE = np.sqrt(metrics.mean_squared_error(y_test, gbm_predict(X_test)))\n",
    "print(RMSE)"
   ]
  },
  {
   "cell_type": "markdown",
   "metadata": {},
   "source": [
    "Попробуем уменьшать вес перед каждым алгоритмом"
   ]
  },
  {
   "cell_type": "code",
   "execution_count": 8,
   "metadata": {},
   "outputs": [
    {
     "name": "stdout",
     "output_type": "stream",
     "text": [
      "5.018472950509014\n"
     ]
    }
   ],
   "source": [
    "base_algorithms_list  = []\n",
    "coefficients_list = []\n",
    "\n",
    "\"\"\"Обучаем 50 решающих деревьев с коэффицентами равными 0.9\"\"\"\n",
    "for i in range(50):\n",
    "    regression = tree.DecisionTreeRegressor(max_depth=5, random_state=42)\n",
    "    #Сначала обучаем первое дерево\n",
    "    if i == 0: \n",
    "        regression.fit(X_train, y_train)\n",
    "    #Для остальных пытаемся уменьшить ошибку\n",
    "    else: \n",
    "        regression.fit(X_train, der_L(y_train, gbm_predict(X_train)))\n",
    "    base_algorithms_list.append(regression)\n",
    "    coefficients_list.append(0.9 / (1.0 + i))\n",
    "\n",
    "RMSE = np.sqrt(metrics.mean_squared_error(y_test, gbm_predict(X_test)))\n",
    "print(RMSE)"
   ]
  },
  {
   "cell_type": "markdown",
   "metadata": {},
   "source": [
    "Посмотрим как с ростом количества деревьев меняется ошибка"
   ]
  },
  {
   "cell_type": "code",
   "execution_count": 9,
   "metadata": {},
   "outputs": [
    {
     "data": {
      "text/plain": [
       "Text(0,0.5,'Среднеквадратичная ошибка')"
      ]
     },
     "execution_count": 9,
     "metadata": {},
     "output_type": "execute_result"
    },
    {
     "data": {
      "image/png": "[encoded data removed]",
      "text/plain": [
       "<matplotlib.figure.Figure at 0xeae1350>"
      ]
     },
     "metadata": {},
     "output_type": "display_data"
    }
   ],
   "source": [
    "err = []\n",
    "rang = np.arange(1, 100, 10)\n",
    "\n",
    "for i in rang:\n",
    "    regression = tree.DecisionTreeRegressor(max_depth=5, random_state=42)\n",
    "    #Сначала обучаем первое дерево\n",
    "    if i == 0: \n",
    "        regression.fit(X_train, y_train)\n",
    "    #Для остальных пытаемся уменьшить ошибку\n",
    "    else: \n",
    "        regression.fit(X_train, der_L(y_train, gbm_predict(X_train)))\n",
    "    base_algorithms_list.append(regression)\n",
    "    coefficients_list.append(0.9 / (1.0 + i))\n",
    "    err.append(np.sqrt(metrics.mean_squared_error(y_test, gbm_predict(X_test))))\n",
    "    \n",
    "plt.grid(True)\n",
    "plt.plot(rang, err)\n",
    "plt.xlabel('Количество деревьев')\n",
    "plt.ylabel('Среднеквадратичная ошибка')"
   ]
  },
  {
   "cell_type": "markdown",
   "metadata": {},
   "source": [
    "Теперь попробуем еще изменять глубину"
   ]
  },
  {
   "cell_type": "code",
   "execution_count": 11,
   "metadata": {},
   "outputs": [
    {
     "data": {
      "text/plain": [
       "Text(0,0.5,'Среднеквадратичная ошибка')"
      ]
     },
     "execution_count": 11,
     "metadata": {},
     "output_type": "execute_result"
    },
    {
     "data": {
      "image/png": "[encoded data removed]",
      "text/plain": [
       "<matplotlib.figure.Figure at 0xe679850>"
      ]
     },
     "metadata": {},
     "output_type": "display_data"
    }
   ],
   "source": [
    "err = []\n",
    "rang = np.arange(1, 100, 10)\n",
    "\n",
    "for i in rang:\n",
    "    regression = tree.DecisionTreeRegressor(max_depth=i, random_state=42)\n",
    "    #Сначала обучаем первое дерево\n",
    "    if i == 0: \n",
    "        regression.fit(X_train, y_train)\n",
    "    #Для остальных пытаемся уменьшить ошибку\n",
    "    else: \n",
    "        regression.fit(X_train, der_L(y_train, gbm_predict(X_train)))\n",
    "    base_algorithms_list.append(regression)\n",
    "    coefficients_list.append(0.9 / (1.0 + i))\n",
    "    err.append(np.sqrt(metrics.mean_squared_error(y_test, gbm_predict(X_test))))\n",
    "    \n",
    "plt.grid(True)\n",
    "plt.plot(rang, err)\n",
    "plt.xlabel('Количество деревьев и глубина')\n",
    "plt.ylabel('Среднеквадратичная ошибка')"
   ]
  },
  {
   "cell_type": "markdown",
   "metadata": {},
   "source": [
    "Сравним бустинг и линейную регрессию "
   ]
  },
  {
   "cell_type": "code",
   "execution_count": 12,
   "metadata": {},
   "outputs": [
    {
     "name": "stdout",
     "output_type": "stream",
     "text": [
      "5.458072843434627\n"
     ]
    }
   ],
   "source": [
    "linear_regression = linear_model.LinearRegression()\n",
    "linear_regression.fit(X_train, y_train)\n",
    "\n",
    "predict = linear_regression.predict(X_test)\n",
    "RMSE = np.sqrt(metrics.mean_squared_error(y_test, predict))\n",
    "\n",
    "print(RMSE)"
   ]
  }
 ],
 "metadata": {
  "kernelspec": {
   "display_name": "Python 3",
   "language": "python",
   "name": "python3"
  },
  "language_info": {
   "codemirror_mode": {
    "name": "ipython",
    "version": 3
   },
   "file_extension": ".py",
   "mimetype": "text/x-python",
   "name": "python",
   "nbconvert_exporter": "python",
   "pygments_lexer": "ipython3",
   "version": "3.6.4"
  }
 },
 "nbformat": 4,
 "nbformat_minor": 2
}
