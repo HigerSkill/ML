{
 "cells": [
  {
   "cell_type": "code",
   "execution_count": 1,
   "metadata": {},
   "outputs": [
    {
     "name": "stderr",
     "output_type": "stream",
     "text": [
      "c:\\users\\higer\\appdata\\local\\programs\\python\\python36-32\\lib\\site-packages\\sklearn\\cross_validation.py:41: DeprecationWarning: This module was deprecated in version 0.18 in favor of the model_selection module into which all the refactored classes and functions are moved. Also note that the interface of the new CV iterators are different from that of this module. This module will be removed in 0.20.\n",
      "  \"This module will be removed in 0.20.\", DeprecationWarning)\n",
      "c:\\users\\higer\\appdata\\local\\programs\\python\\python36-32\\lib\\site-packages\\sklearn\\learning_curve.py:22: DeprecationWarning: This module was deprecated in version 0.18 in favor of the model_selection module into which all the functions are moved. This module will be removed in 0.20\n",
      "  DeprecationWarning)\n"
     ]
    }
   ],
   "source": [
    "from sklearn.datasets import load_digits\n",
    "from matplotlib.colors import ListedColormap\n",
    "from sklearn import cross_validation, datasets, metrics, tree, ensemble, learning_curve\n",
    "import numpy as np\n",
    "import pandas as pd"
   ]
  },
  {
   "cell_type": "code",
   "execution_count": 2,
   "metadata": {},
   "outputs": [
    {
     "name": "stdout",
     "output_type": "stream",
     "text": [
      "Populating the interactive namespace from numpy and matplotlib\n"
     ]
    }
   ],
   "source": [
    "%pylab inline"
   ]
  },
  {
   "cell_type": "code",
   "execution_count": 3,
   "metadata": {},
   "outputs": [],
   "source": [
    "X, y = load_digits(return_X_y=True)"
   ]
  },
  {
   "cell_type": "markdown",
   "metadata": {},
   "source": [
    "Разделим выборку на обучающую и тестовую в соотношении 70 на 30"
   ]
  },
  {
   "cell_type": "code",
   "execution_count": 4,
   "metadata": {},
   "outputs": [],
   "source": [
    "train_data, test_data, train_labels, test_labels = cross_validation.train_test_split(X, \n",
    "                                                                                     y, \n",
    "                                                                                     test_size = 0.3,\n",
    "                                                                                     random_state = 1)"
   ]
  },
  {
   "cell_type": "markdown",
   "metadata": {},
   "source": [
    "Создадим дерево с дефолтными аргументами"
   ]
  },
  {
   "cell_type": "code",
   "execution_count": 5,
   "metadata": {},
   "outputs": [],
   "source": [
    "clf_tree = tree.DecisionTreeClassifier()"
   ]
  },
  {
   "cell_type": "markdown",
   "metadata": {},
   "source": [
    "Измерим качество работы"
   ]
  },
  {
   "cell_type": "code",
   "execution_count": 6,
   "metadata": {},
   "outputs": [
    {
     "name": "stdout",
     "output_type": "stream",
     "text": [
      "Cross val score: [0.8        0.84153005 0.83425414 0.81111111 0.79888268 0.88826816\n",
      " 0.89944134 0.83146067 0.82485876 0.81818182]\n",
      "Mean: 0.8347988737574547\n"
     ]
    }
   ],
   "source": [
    "score_cv_tree = cross_validation.cross_val_score(clf_tree, X, y, cv=10)\n",
    "print('Cross val score:', score_cv_tree)\n",
    "print('Mean:', score_cv_tree.mean())"
   ]
  },
  {
   "cell_type": "markdown",
   "metadata": {},
   "source": [
    "Обучим бэггинг и измерим качество"
   ]
  },
  {
   "cell_type": "code",
   "execution_count": 7,
   "metadata": {},
   "outputs": [],
   "source": [
    "clf_bagging = ensemble.BaggingClassifier(base_estimator=tree.DecisionTreeClassifier(), n_estimators=100)"
   ]
  },
  {
   "cell_type": "code",
   "execution_count": 8,
   "metadata": {},
   "outputs": [
    {
     "name": "stdout",
     "output_type": "stream",
     "text": [
      "Cross val score: [0.88108108 0.96721311 0.90607735 0.95555556 0.91620112 0.97765363\n",
      " 0.95530726 0.91011236 0.87570621 0.92045455]\n",
      "Mean: 0.926536223032459\n"
     ]
    }
   ],
   "source": [
    "score_cv_bagging = cross_validation.cross_val_score(clf_bagging, X, y, cv=10)\n",
    "print('Cross val score:', score_cv_bagging)\n",
    "print('Mean:', score_cv_bagging.mean())"
   ]
  },
  {
   "cell_type": "code",
   "execution_count": 9,
   "metadata": {},
   "outputs": [],
   "source": [
    "n_features=len(X[0])\n",
    "clf_bagging_2 = ensemble.BaggingClassifier(base_estimator=tree.DecisionTreeClassifier(), \n",
    "                                           max_features=int(sqrt(n_features)),\n",
    "                                           n_estimators=100)"
   ]
  },
  {
   "cell_type": "code",
   "execution_count": 10,
   "metadata": {},
   "outputs": [
    {
     "name": "stdout",
     "output_type": "stream",
     "text": [
      "Cross val score: [0.88108108 0.9726776  0.9558011  0.93888889 0.92178771 0.94413408\n",
      " 0.96648045 0.97752809 0.89830508 0.92613636]\n",
      "Mean: 0.93828204434774\n"
     ]
    }
   ],
   "source": [
    "score_cv_bagging_2 = cross_validation.cross_val_score(clf_bagging_2, X, y, cv=10)\n",
    "print('Cross val score:', score_cv_bagging_2)\n",
    "print('Mean:', score_cv_bagging_2.mean())"
   ]
  },
  {
   "cell_type": "code",
   "execution_count": 11,
   "metadata": {},
   "outputs": [],
   "source": [
    "clf_bagging_3 = ensemble.BaggingClassifier(base_estimator=tree.DecisionTreeClassifier(random_state=np.random.RandomState), \n",
    "                                           max_features=int(sqrt(n_features)),\n",
    "                                           n_estimators=100)"
   ]
  },
  {
   "cell_type": "code",
   "execution_count": 12,
   "metadata": {},
   "outputs": [
    {
     "name": "stdout",
     "output_type": "stream",
     "text": [
      "Cross val score: [0.89189189 0.95628415 0.92265193 0.91666667 0.93854749 0.94413408\n",
      " 0.94413408 0.98876404 0.87570621 0.90909091]\n",
      "Mean: 0.9287871456447775\n"
     ]
    }
   ],
   "source": [
    "score_cv_bagging_3 = cross_validation.cross_val_score(clf_bagging_3, X, y, cv=10)\n",
    "print('Cross val score:', score_cv_bagging_3)\n",
    "print('Mean:', score_cv_bagging_3.mean())"
   ]
  },
  {
   "cell_type": "markdown",
   "metadata": {},
   "source": [
    "Посмотрим на RandomForestClassifier"
   ]
  },
  {
   "cell_type": "code",
   "execution_count": 13,
   "metadata": {},
   "outputs": [],
   "source": [
    "clf_randforest = ensemble.RandomForestClassifier(n_estimators=100)"
   ]
  },
  {
   "cell_type": "code",
   "execution_count": 14,
   "metadata": {},
   "outputs": [
    {
     "name": "stdout",
     "output_type": "stream",
     "text": [
      "Cross val score: [0.92432432 0.96721311 0.95027624 0.96666667 0.95530726 0.97206704\n",
      " 0.97765363 0.95505618 0.92655367 0.94886364]\n",
      "Mean: 0.9543981770255208\n"
     ]
    }
   ],
   "source": [
    "score_cv_randforest = cross_validation.cross_val_score(clf_randforest, X, y, cv=10)\n",
    "print('Cross val score:', score_cv_randforest)\n",
    "print('Mean:', score_cv_randforest.mean())"
   ]
  },
  {
   "cell_type": "markdown",
   "metadata": {},
   "source": [
    "Построим кривую обучения рандомного леса"
   ]
  },
  {
   "cell_type": "code",
   "execution_count": 15,
   "metadata": {},
   "outputs": [],
   "source": [
    "train_sizes, train_scores, test_scores = learning_curve.learning_curve(clf_randforest, X, y, \n",
    "                                                                       train_sizes=np.arange(0.1,1., 0.2), \n",
    "                                                                       cv=10, scoring='accuracy')"
   ]
  },
  {
   "cell_type": "code",
   "execution_count": 16,
   "metadata": {},
   "outputs": [
    {
     "data": {
      "text/plain": [
       "<matplotlib.legend.Legend at 0xe6071f0>"
      ]
     },
     "execution_count": 16,
     "metadata": {},
     "output_type": "execute_result"
    },
    {
     "data": {
      "image/png": "[encoded data removed]",
      "text/plain": [
       "<matplotlib.figure.Figure at 0xe79a450>"
      ]
     },
     "metadata": {},
     "output_type": "display_data"
    }
   ],
   "source": [
    "pylab.grid(True)\n",
    "pylab.plot(train_sizes, train_scores.mean(axis = 1), 'g-', marker='o', label='train')\n",
    "pylab.plot(train_sizes, test_scores.mean(axis = 1), 'r-', marker='o', label='test')\n",
    "pylab.ylim((0.0, 1.05))\n",
    "pylab.legend(loc='lower right')"
   ]
  }
 ],
 "metadata": {
  "kernelspec": {
   "display_name": "Python 3",
   "language": "python",
   "name": "python3"
  },
  "language_info": {
   "codemirror_mode": {
    "name": "ipython",
    "version": 3
   },
   "file_extension": ".py",
   "mimetype": "text/x-python",
   "name": "python",
   "nbconvert_exporter": "python",
   "pygments_lexer": "ipython3",
   "version": "3.6.4"
  }
 },
 "nbformat": 4,
 "nbformat_minor": 2
}
