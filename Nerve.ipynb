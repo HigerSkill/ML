{
  "nbformat": 4,
  "nbformat_minor": 0,
  "metadata": {
    "colab": {
      "name": "Untitled1.ipynb",
      "version": "0.3.2",
      "provenance": [],
      "collapsed_sections": [],
      "machine_shape": "hm"
    },
    "kernelspec": {
      "name": "python3",
      "display_name": "Python 3"
    }
  },
  "cells": [
    {
      "cell_type": "code",
      "metadata": {
        "id": "-Z5GUgzAXyBp",
        "colab_type": "code",
        "outputId": "b32816c1-615a-4aae-99c9-2c6b4aa61793",
        "colab": {
          "base_uri": "https://localhost:8080/",
          "height": 34
        }
      },
      "source": [
        "import os\n",
        "from os import listdir\n",
        "\n",
        "import numpy as np\n",
        "\n",
        "import matplotlib.pyplot as plt\n",
        "from google.colab import drive\n",
        "from keras import backend as K\n",
        "from keras.callbacks import ModelCheckpoint\n",
        "from keras.layers import (Conv2D, Conv2DTranspose, Dropout, Input,\n",
        "                          MaxPooling2D, concatenate)\n",
        "from keras.models import Model\n",
        "from keras.optimizers import Adam\n",
        "from matplotlib import pyplot as plt\n",
        "from skimage.io import imread, imsave\n",
        "from skimage.transform import resize\n",
        "from sklearn.model_selection import train_test_split\n",
        "\n",
        "drive.mount('/content/gdrive/')\n",
        "\n",
        "data_path = '/content/gdrive/My Drive/train'\n"
      ],
      "execution_count": 39,
      "outputs": [
        {
          "output_type": "stream",
          "text": [
            "Drive already mounted at /content/gdrive/; to attempt to forcibly remount, call drive.mount(\"/content/gdrive/\", force_remount=True).\n"
          ],
          "name": "stdout"
        }
      ]
    },
    {
      "cell_type": "code",
      "metadata": {
        "id": "tNv59JIsfswh",
        "colab_type": "code",
        "colab": {}
      },
      "source": [
        "def create_train_test_data():\n",
        "    HEIGTH = 420\n",
        "    WIDTH = 580\n",
        "    \"\"\"Create train and test data from dataset\"\"\"\n",
        "    images_dir = os.listdir(data_path)\n",
        "    num_images = int(len(images_dir))\n",
        "\n",
        "    images = np.ndarray((num_images, HEIGTH, WIDTH), dtype=np.uint8)\n",
        "    images_mask = np.ndarray((num_images, HEIGTH, WIDTH), dtype=np.uint8)\n",
        "\n",
        "    i = 0\n",
        "    for image_name in images_dir:\n",
        "        if 'mask' in image_name:\n",
        "            continue\n",
        "        mask_name = image_name.split('.')[0] + '_mask.tif'\n",
        "        if mask_name.find('(1)') == -1:\n",
        "          image = imread(\n",
        "              os.path.join(data_path, image_name),\n",
        "              as_gray=True,\n",
        "              plugin='matplotlib'\n",
        "          )\n",
        "          mask = imread(\n",
        "              os.path.join(data_path, mask_name),\n",
        "              as_gray=True,\n",
        "              plugin='matplotlib'\n",
        "          )\n",
        "\n",
        "        image = np.array([image])\n",
        "        mask = np.array([mask])\n",
        "\n",
        "        images[i] = image\n",
        "        images_mask[i] = mask\n",
        "        \n",
        "        i += 1\n",
        "\n",
        "    train, test, mask_train, mask_test = train_test_split(\n",
        "        images,\n",
        "        images_mask,\n",
        "        test_size=0.20,\n",
        "        random_state=42\n",
        "    )\n",
        "\n",
        "    return train, mask_train, test, mask_test\n"
      ],
      "execution_count": 0,
      "outputs": []
    },
    {
      "cell_type": "code",
      "metadata": {
        "id": "47xNfUjvf0O1",
        "colab_type": "code",
        "colab": {}
      },
      "source": [
        "HEIGHT = 96\n",
        "WIDTH = 96\n",
        "smooth = 1."
      ],
      "execution_count": 0,
      "outputs": []
    },
    {
      "cell_type": "code",
      "metadata": {
        "id": "YsaWxPy-f-pE",
        "colab_type": "code",
        "colab": {}
      },
      "source": [
        "def dice_coef(y_true, y_pred):\n",
        "    \"\"\"Return dice coefficient\"\"\"\n",
        "    y_true = K.flatten(y_true)\n",
        "    y_pred = K.flatten(y_pred)\n",
        "    intersec = K.sum(y_true * y_pred)\n",
        "    return (2. * intersec + smooth) / (K.sum(y_true) + K.sum(y_pred) + smooth)\n",
        "\n",
        "\n",
        "def dice_coef_loss(y_true, y_pred):\n",
        "    \"\"\"Get loss for dice coefficient\"\"\"\n",
        "    return 1-dice_coef(y_true, y_pred)\n",
        "\n",
        "def preprocess(imgs):\n",
        "    \"\"\"Reduce dimension of images\"\"\"\n",
        "    imgs_p = np.ndarray((imgs.shape[0], HEIGHT, WIDTH), dtype=np.uint8)\n",
        "    for i in range(imgs.shape[0]):\n",
        "        imgs_p[i] = resize(imgs[i], (HEIGHT, WIDTH), preserve_range=True)\n",
        "\n",
        "    imgs_p = imgs_p[..., np.newaxis]\n",
        "    return imgs_p"
      ],
      "execution_count": 0,
      "outputs": []
    },
    {
      "cell_type": "code",
      "metadata": {
        "id": "e50NUequf_X3",
        "colab_type": "code",
        "colab": {}
      },
      "source": [
        "def conv_net():\n",
        "    \"\"\"Compile convolutional network with dice coefficient metrics\"\"\"\n",
        "    inputs = Input((HEIGHT, WIDTH, 1))\n",
        "    conv1 = Conv2D(32, (3, 3), activation='elu', padding='same')(inputs)\n",
        "    conv1 = Dropout(0.2)(conv1)\n",
        "    conv1 = Conv2D(32, (3, 3), activation='elu', padding='same')(conv1)\n",
        "    pool1 = MaxPooling2D(pool_size=(2, 2))(conv1)\n",
        "\n",
        "    conv2 = Conv2D(64, (3, 3), activation='elu', padding='same')(pool1)\n",
        "    conv2 = Dropout(0.2)(conv2)\n",
        "    conv2 = Conv2D(64, (3, 3), activation='elu', padding='same')(conv2)\n",
        "    pool2 = MaxPooling2D(pool_size=(2, 2))(conv2)\n",
        "\n",
        "    conv3 = Conv2D(128, (3, 3), activation='elu', padding='same')(pool2)\n",
        "    conv3 = Dropout(0.2)(conv3)\n",
        "    conv3 = Conv2D(128, (3, 3), activation='elu', padding='same')(conv3)\n",
        "    pool3 = MaxPooling2D(pool_size=(2, 2))(conv3)\n",
        "\n",
        "    conv4 = Conv2D(256, (3, 3), activation='elu', padding='same')(pool3)\n",
        "    conv4 = Dropout(0.2)(conv4)\n",
        "    conv4 = Conv2D(256, (3, 3), activation='elu', padding='same')(conv4)\n",
        "    pool4 = MaxPooling2D(pool_size=(2, 2))(conv4)\n",
        "\n",
        "    conv5 = Conv2D(512, (3, 3), activation='relu', padding='same')(pool4)\n",
        "    conv5 = Dropout(0.2)(conv5)\n",
        "    conv5 = Conv2D(512, (3, 3), activation='relu', padding='same')(conv5)\n",
        "\n",
        "    up6 = concatenate([Conv2DTranspose(256, (2, 2), strides=(2, 2), padding='same')(conv5), conv4], axis=3)\n",
        "    conv6 = Conv2D(256, (3, 3), activation='elu', padding='same')(up6)\n",
        "    conv6 = Dropout(0.2)(conv6)\n",
        "    conv6 = Conv2D(256, (3, 3), activation='elu', padding='same')(conv6)\n",
        "\n",
        "    up7 = concatenate([Conv2DTranspose(128, (2, 2), strides=(2, 2), padding='same')(conv6), conv3], axis=3)\n",
        "    conv7 = Conv2D(128, (3, 3), activation='elu', padding='same')(up7)\n",
        "    conv7 = Dropout(0.2)(conv7)\n",
        "    conv7 = Conv2D(128, (3, 3), activation='elu', padding='same')(conv7)\n",
        "\n",
        "    up8 = concatenate([Conv2DTranspose(64, (2, 2), strides=(2, 2), padding='same')(conv7), conv2], axis=3)\n",
        "    conv8 = Conv2D(64, (3, 3), activation='elu', padding='same')(up8)\n",
        "    conv8 = Dropout(0.2)(conv8)\n",
        "    conv8 = Conv2D(64, (3, 3), activation='elu', padding='same')(conv8)\n",
        "\n",
        "    up9 = concatenate([Conv2DTranspose(32, (2, 2), strides=(2, 2), padding='same')(conv8), conv1], axis=3)\n",
        "    conv9 = Conv2D(32, (3, 3), activation='elu', padding='same')(up9)\n",
        "    conv9 = Dropout(0.4)(conv9)\n",
        "    conv9 = Conv2D(32, (3, 3), activation='elu', padding='same')(conv9)\n",
        "\n",
        "    conv10 = Conv2D(1, (1, 1), activation='softmax')(conv9)\n",
        "  \n",
        "    model.compile(optimizer=Adam(lr=1e-5), loss=dice_coef_loss, metrics=[dice_coef])\n",
        "\n",
        "\n",
        "    return model"
      ],
      "execution_count": 0,
      "outputs": []
    },
    {
      "cell_type": "code",
      "metadata": {
        "id": "aI-z_VuEgEqG",
        "colab_type": "code",
        "colab": {}
      },
      "source": [
        "def model():\n",
        "  \"\"\"Fit model nerve net and get plot\"\"\"\n",
        "  model = conv_net()\n",
        "  checkpoint = ModelCheckpoint('checkpoint.h5', monitor='val_loss', save_best_only=True,verbose = 1)\n",
        "  return model"
      ],
      "execution_count": 0,
      "outputs": []
    },
    {
      "cell_type": "code",
      "metadata": {
        "id": "RHkXdOnU-UOg",
        "colab_type": "code",
        "colab": {}
      },
      "source": [
        "def plot_loss(model):\n",
        "  plt.plot(model.history['loss'],'r')\n",
        "  plt.plot(model.history['val_loss'],'g')\n",
        "  plt.rcParams['figure.figsize'] = (8, 6)\n",
        "  plt.xlabel(\"epoch\")\n",
        "  plt.ylabel(\"loss\")\n",
        "  plt.legend(['train', 'validation'], loc='upper left')\n",
        "  plt.savefig('model_loss.png')"
      ],
      "execution_count": 0,
      "outputs": []
    },
    {
      "cell_type": "code",
      "metadata": {
        "id": "QboJ7hnT-Pji",
        "colab_type": "code",
        "colab": {}
      },
      "source": [
        "def train():\n",
        "  batch_size = 256\n",
        "  epochs = 120\n",
        "  \n",
        "  train, mask_train, test, mask_test = create_train_test_data()\n",
        "\n",
        "  train = preprocess(train)\n",
        "  mask_train = preprocess(mask_train)\n",
        "  train = train.astype('float32')\n",
        "  mean = np.mean(train)\n",
        "  std = np.std(train)  \n",
        "\n",
        "  train -= mean\n",
        "  train /= std\n",
        "\n",
        "  mask_train = mask_train.astype('float32')\n",
        "  mask_train /= 255.\n",
        "\n",
        "  model1 = conv_net()\n",
        "  model1.summary()\n",
        "  checkpoint = ModelCheckpoint('checkpoint.h5', monitor='val_loss', save_best_only=True,verbose = 1)\n",
        "  \n",
        "  history = model1.fit(train, mask_train, batch_size=256, epochs=100, verbose=1, shuffle=True,\n",
        "              validation_split=0.2,\n",
        "              callbacks=[checkpoint])\n",
        "  \n",
        " \n",
        "  model.evaluate(test, mask_test)\n",
        "    \n",
        "  return history"
      ],
      "execution_count": 0,
      "outputs": []
    },
    {
      "cell_type": "code",
      "metadata": {
        "id": "uPcyio9kgM1E",
        "colab_type": "code",
        "colab": {}
      },
      "source": [
        "history = train()\n",
        "  \n",
        "plot_loss(history)"
      ],
      "execution_count": 0,
      "outputs": []
    }
  ]
}